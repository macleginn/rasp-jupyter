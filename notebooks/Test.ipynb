{
 "cells": [
  {
   "cell_type": "code",
   "execution_count": 1,
   "id": "771d6e65-705a-4f2d-97c6-055012d19f48",
   "metadata": {},
   "outputs": [
    {
     "name": "stdout",
     "output_type": "stream",
     "text": [
      "     s-op: threexindices\n",
      " \t Example: threexindices(\"hello\") = [0, 3, 6, 9, 12] (ints)\n"
     ]
    }
   ],
   "source": [
    "threexindices =3 * indices;"
   ]
  },
  {
   "cell_type": "code",
   "execution_count": 2,
   "id": "3b363b1a-088d-4bf2-938f-33dd2901b45a",
   "metadata": {},
   "outputs": [
    {
     "name": "stdout",
     "output_type": "stream",
     "text": [
      "     s-op: indices\n",
      " \t Example: indices(\"hello\") = [0, 1, 2, 3, 4] (ints)\n"
     ]
    }
   ],
   "source": [
    "indices;"
   ]
  },
  {
   "cell_type": "code",
   "execution_count": 3,
   "id": "702734db-e567-4d40-8b2c-1aeb1eee3dec",
   "metadata": {},
   "outputs": [
    {
     "name": "stdout",
     "output_type": "stream",
     "text": [
      "     s-op: out\n",
      " \t Example: out(\"hello\") = [0, 2, 4, 6, 8] (ints)\n"
     ]
    }
   ],
   "source": [
    "indices+indices;"
   ]
  },
  {
   "cell_type": "code",
   "execution_count": 4,
   "id": "25d3ddab-9a1d-4079-a71b-e91ec97746a1",
   "metadata": {},
   "outputs": [
    {
     "name": "stdout",
     "output_type": "stream",
     "text": []
    }
   ],
   "source": [
    "set example \"what\""
   ]
  },
  {
   "cell_type": "code",
   "execution_count": 5,
   "id": "99135613-a359-44f8-a59f-5add592eaf7e",
   "metadata": {},
   "outputs": [
    {
     "name": "stdout",
     "output_type": "stream",
     "text": [
      "     selector: prevs\n",
      " \t Example:\n",
      " \t\t\t     w h a t\n",
      " \t\t\t w |        \n",
      " \t\t\t h | 1      \n",
      " \t\t\t a | 1 1    \n",
      " \t\t\t t | 1 1 1  \n"
     ]
    }
   ],
   "source": [
    "prevs=select(indices,indices,<);"
   ]
  },
  {
   "cell_type": "code",
   "execution_count": 6,
   "id": "4987e32c-d336-423f-9d72-deaa4b977460",
   "metadata": {},
   "outputs": [
    {
     "name": "stdout",
     "output_type": "stream",
     "text": [
      "     s-op: threexindices\n",
      " \t Example: threexindices(\"what\") = [0, 3, 6, 9] (ints)\n"
     ]
    }
   ],
   "source": [
    "threexindices;"
   ]
  },
  {
   "cell_type": "code",
   "execution_count": 7,
   "id": "cfa90dd8-0f7e-4e05-adc3-d99eeee94e1b",
   "metadata": {},
   "outputs": [
    {
     "name": "stdout",
     "output_type": "stream",
     "text": [
      "\t =  [0, 3] (ints)\n"
     ]
    }
   ],
   "source": [
    "threexindices([\"hi\",\"there\"]);"
   ]
  },
  {
   "cell_type": "code",
   "execution_count": 8,
   "id": "a60fee93-8e48-412b-8306-3c4cac0e8d43",
   "metadata": {},
   "outputs": [
    {
     "name": "stdout",
     "output_type": "stream",
     "text": [
      "\t =  [0, 3, 6, 9] (ints)\n"
     ]
    }
   ],
   "source": [
    "threexindices(\"hiya\");"
   ]
  },
  {
   "cell_type": "code",
   "execution_count": 9,
   "id": "448d184a-7b9d-4a28-b411-c522db4394e6",
   "metadata": {},
   "outputs": [
    {
     "name": "stdout",
     "output_type": "stream",
     "text": [
      "     selector: full_s\n",
      " \t Example:\n",
      " \t\t\t     w h a t\n",
      " \t\t\t w | 1 1 1 1\n",
      " \t\t\t h | 1 1 1 1\n",
      " \t\t\t a | 1 1 1 1\n",
      " \t\t\t t | 1 1 1 1\n"
     ]
    }
   ],
   "source": [
    "full_s;"
   ]
  },
  {
   "cell_type": "code",
   "execution_count": 10,
   "id": "05462452-7771-41b6-b1b3-35efbe727573",
   "metadata": {},
   "outputs": [
    {
     "name": "stdout",
     "output_type": "stream",
     "text": [
      "\t\t!!ignoring input:\n",
      "\t Error: Cannot set reserved name: full_s\n"
     ]
    }
   ],
   "source": [
    "full_s = select(1,1,==);"
   ]
  },
  {
   "cell_type": "code",
   "execution_count": 11,
   "id": "f4d7c6ad-c836-4245-b31b-8d20f91d7bd9",
   "metadata": {},
   "outputs": [
    {
     "name": "stdout",
     "output_type": "stream",
     "text": [
      "     selector: full_s\n",
      " \t Example:\n",
      " \t\t\t     w h a t\n",
      " \t\t\t w | 1 1 1 1\n",
      " \t\t\t h | 1 1 1 1\n",
      " \t\t\t a | 1 1 1 1\n",
      " \t\t\t t | 1 1 1 1\n"
     ]
    }
   ],
   "source": [
    "full_s;"
   ]
  },
  {
   "cell_type": "code",
   "execution_count": 20,
   "id": "852c9511-bd3d-426f-b42e-6cdee0b34706",
   "metadata": {},
   "outputs": [
    {
     "name": "stdout",
     "output_type": "stream",
     "text": [
      "     s-op: my_frac\n",
      " \t Example: my_frac(\"what\") = [0.25]*4 (floats)\n"
     ]
    }
   ],
   "source": [
    "my_frac=aggregate(full_s,indicator(tokens==\"a\"));"
   ]
  },
  {
   "cell_type": "code",
   "execution_count": 14,
   "id": "07e1cfbf-7719-4ce4-a6b2-965c0068b471",
   "metadata": {},
   "outputs": [
    {
     "name": "stdout",
     "output_type": "stream",
     "text": [
      "     list: vowels = ['a', 'e', 'i', 'o', 'u']\n"
     ]
    }
   ],
   "source": [
    "vowels = [\"a\",\"e\",\"i\",\"o\",\"u\"];"
   ]
  },
  {
   "cell_type": "code",
   "execution_count": 15,
   "id": "dd82a000-23bc-4bb9-b325-4ae9803c8d05",
   "metadata": {},
   "outputs": [
    {
     "name": "stdout",
     "output_type": "stream",
     "text": [
      "     s-op: out\n",
      " \t Example: out(\"what\") = [F, F, T, F] (bools)\n"
     ]
    }
   ],
   "source": [
    "tokens in vowels;"
   ]
  },
  {
   "cell_type": "code",
   "execution_count": 21,
   "id": "48d11236-6965-486a-b1aa-c9d61adf3ace",
   "metadata": {},
   "outputs": [
    {
     "name": "stdout",
     "output_type": "stream",
     "text": [
      "\t =  [0.125]*8 (floats)\n"
     ]
    }
   ],
   "source": [
    "draw(my_frac,\"abcdeeee\");"
   ]
  },
  {
   "cell_type": "code",
   "execution_count": 22,
   "id": "4f4ee7af-c002-4894-a8d4-476e8ba81a9a",
   "metadata": {},
   "outputs": [
    {
     "name": "stdout",
     "output_type": "stream",
     "text": [
      "\t =  [0.25]*4 (floats)\n"
     ]
    }
   ],
   "source": [
    "draw(my_frac);"
   ]
  },
  {
   "cell_type": "code",
   "execution_count": 28,
   "id": "aa9c6cae-69d5-4048-864e-ab37529cf288",
   "metadata": {},
   "outputs": [
    {
     "name": "stdout",
     "output_type": "stream",
     "text": [
      "    value: depth =  3\n",
      "     list: elements = ['a', 'b', 'c']\n",
      "    value: element_variable =  \"x\"\n",
      "    value: set_variable =  \"X\"\n",
      "     list: sets = ['A', 'B', 'C']\n",
      "    value: sep =  \",\"\n",
      "    value: in_token =  \"<\"\n",
      "    value: infers_token =  \":\"\n",
      "    value: notin_token =  \"#\"\n",
      "    value: example0 =  \"a<A,a<A?\"\n",
      "    value: example1 =  \"a<A,a#A?\"\n",
      "    value: example2 =  \"a<A,a<B?\"\n",
      "    value: example3 =  \"a<A,x<A:x<B,a<B?\"\n",
      "    value: example4 =  \"a#A,x#A:x<B,a<B?\"\n",
      "    value: example5 =  \"a<A,x<A:x#B,a<B?\"\n",
      "    value: example6 =  \"a#A,x#A:x#B,a<A?\"\n",
      "    value: example7 =  \"a#B,x<A:x<B,a<A?\"\n",
      "    value: example8 =  \"b#B,x<A:x<B,a<B?\"\n",
      "    value: example9 =  \"x<A:x<B,x#B:x<C,b#B,b<A?\"\n",
      "    value: example10 =  \"x<A:x<B,x#B:x<C,b#B,b<C?\"\n",
      "    value: example11 =  \"a<A,x<A:x<B,x<B:x<C,a<C?\"\n",
      "    value: example12 =  \"a<A,x<A:x<B,x<B:x#C,a<C?\"\n",
      "    value: example13 =  \"a<A,x<A:x<B,x<C:x#B,a<C?\"\n",
      "    value: example14 =  \"a<A,b<A?\"\n",
      "    value: example15 =  \"a<A,a<X:b<X,b<A?\"\n",
      "    value: example16 =  \"a<A,a<X:b#X,b<A?\"\n",
      "    value: example17 =  \"a#A,a#X:b<X,b<A?\"\n",
      "    value: example18 =  \"a#A,a#X:b#X,b<A?\"\n",
      "    value: example19 =  \"a#A,b<X:a<X,b<A?\"\n",
      "    value: example20 =  \"a<A,a<X:b<X,b<X:c<X,c<A?\"\n",
      "    value: example21 =  \"a<A,a<X:b<X,x<A:x<C,b<C?\"\n",
      "     ../src/rasp_kernel/RASP/rover function: checkfor(item, in_ness)\n",
      "     ../src/rasp_kernel/RASP/rover function: get_inference_clause_token(i)\n",
      "     ../src/rasp_kernel/RASP/rover function: receiving_to_group(groupname)\n",
      "     ../src/rasp_kernel/RASP/rover function: mutual_load(loader, bools_dict)\n",
      "     ../src/rasp_kernel/RASP/rover function: share_sightings(sightings)\n",
      "     ../src/rasp_kernel/RASP/rover function: receive(new, base, combine_condition)\n",
      "     ../src/rasp_kernel/RASP/rover function: setchanger_update(contains_el, not_contains_el)\n",
      "     ../src/rasp_kernel/RASP/rover function: elementchanger_update(isin, notin)\n",
      "     ../src/rasp_kernel/RASP/rover function: type1_to_alltype2(t1, t2list, rel)\n",
      "     ../src/rasp_kernel/RASP/rover function: getall(sightings_dict)\n",
      "     s-op: clause_index\n",
      "     s-op: relative_clause_pos\n",
      "     s-op: num_clauses\n",
      "     s-op: is_sep\n",
      "     s-op: inference_clause\n",
      "     s-op: question_clause\n",
      "     s-op: base_clause\n",
      "     s-op: is_set\n",
      "     s-op: is_element\n",
      "     s-op: inference_lefthalf\n",
      "     s-op: inference_righthalf\n",
      "     dict: load_from_token =  {\n",
      "\t\t\t \"a\" :     selector: plain select\n",
      "\t\t\t \"b\" :     selector: plain select\n",
      "\t\t\t \"c\" :     selector: plain select\n",
      "\t\t\t \"A\" :     selector: plain select\n",
      "\t\t\t \"B\" :     selector: plain select\n",
      "\t\t\t \"C\" :     selector: plain select\n",
      "                             }\n",
      "     s-op: item_in_base_clause\n",
      "     selector: load_other_base_item\n",
      "     s-op: other_base_item\n",
      "     selector: load_base_op\n",
      "     s-op: base_op\n",
      "     dict: contains_el =  {\n",
      "\t\t\t \"a\" :     s-op: checkfor(\"a\" , \"<\")\n",
      "\t\t\t \"b\" :     s-op: checkfor(\"b\" , \"<\")\n",
      "\t\t\t \"c\" :     s-op: checkfor(\"c\" , \"<\")\n",
      "                         }\n",
      "     dict: not_contains_el =  {\n",
      "\t\t\t \"a\" :     s-op: checkfor(\"a\" , \"#\")\n",
      "\t\t\t \"b\" :     s-op: checkfor(\"b\" , \"#\")\n",
      "\t\t\t \"c\" :     s-op: checkfor(\"c\" , \"#\")\n",
      "                             }\n",
      "     dict: isin =  {\n",
      "\t\t\t \"A\" :     s-op: checkfor(\"A\" , \"<\")\n",
      "\t\t\t \"B\" :     s-op: checkfor(\"B\" , \"<\")\n",
      "\t\t\t \"C\" :     s-op: checkfor(\"C\" , \"<\")\n",
      "                  }\n",
      "     dict: notin =  {\n",
      "\t\t\t \"A\" :     s-op: checkfor(\"A\" , \"#\")\n",
      "\t\t\t \"B\" :     s-op: checkfor(\"B\" , \"#\")\n",
      "\t\t\t \"C\" :     s-op: checkfor(\"C\" , \"#\")\n",
      "                   }\n",
      "     s-op: inference_leftel\n",
      "     s-op: inference_leftop\n",
      "     s-op: inference_leftset\n",
      "     s-op: inference_rightel\n",
      "     s-op: inference_rightop\n",
      "     s-op: inference_rightset\n",
      "     s-op: setchanger\n",
      "     s-op: elementchanger\n",
      "     s-op: is_inference_receiver\n",
      "     s-op: setchanger_lr\n",
      "     s-op: setchanger_rr\n",
      "     s-op: elementchanger_lr\n",
      "     s-op: elementchanger_rr\n",
      "     s-op: left_receiver\n",
      "     s-op: right_receiver\n",
      "     s-op: receive_to_contains_el\n",
      "     s-op: receive_to_not_contains_el\n",
      "     s-op: receive_to_isin\n",
      "     s-op: receive_to_notin\n",
      "     selector: mutual_inference_set_loader\n",
      "     selector: mutual_inference_element_loader\n",
      "     selector: same_item\n",
      "     list: stages = []\n",
      "     dict: all_known =  {\n",
      "\t\t\t \"contains_el\" :     s-op: getall((dict))\n",
      "\t\t\t \"not_contains_el\" :     s-op: getall((dict))\n",
      "\t\t\t \"isin\" :     s-op: getall((dict))\n",
      "\t\t\t \"notin\" :     s-op: getall((dict))\n",
      "                       }\n",
      "     s-op: query_token\n",
      "     s-op: query_op\n",
      "     dict: needstobe =  {\n",
      "\t\t\t \"a\" :     s-op: s-op\n",
      "\t\t\t \"b\" :     s-op: s-op\n",
      "\t\t\t \"c\" :     s-op: s-op\n",
      "                       }\n",
      "     dict: needstonotbe =  {\n",
      "\t\t\t \"a\" :     s-op: s-op\n",
      "\t\t\t \"b\" :     s-op: s-op\n",
      "\t\t\t \"c\" :     s-op: s-op\n",
      "                          }\n",
      "     selector: load_question_set\n",
      "     s-op: posres\n",
      "     s-op: negres\n",
      "     s-op: res\n"
     ]
    }
   ],
   "source": [
    "load \"../src/rasp_kernel/RASP/rover\";"
   ]
  },
  {
   "cell_type": "code",
   "execution_count": 29,
   "id": "5a1cc093-a369-4e49-9044-e2c3ce30648e",
   "metadata": {},
   "outputs": [
    {
     "name": "stdout",
     "output_type": "stream",
     "text": [
      "    value: depth =  3\n"
     ]
    }
   ],
   "source": [
    "depth;"
   ]
  }
 ],
 "metadata": {
  "kernelspec": {
   "display_name": "RASP",
   "language": "",
   "name": "rasp"
  },
  "language_info": {
   "file_extension": ".txt",
   "mimetype": "text/plain",
   "name": "Any text"
  }
 },
 "nbformat": 4,
 "nbformat_minor": 5
}
