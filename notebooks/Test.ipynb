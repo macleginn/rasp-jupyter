{
 "cells": [
  {
   "cell_type": "code",
   "execution_count": 1,
   "id": "771d6e65-705a-4f2d-97c6-055012d19f48",
   "metadata": {},
   "outputs": [
    {
     "name": "stdout",
     "output_type": "stream",
     "text": [
      "Hello, echo kernel."
     ]
    }
   ],
   "source": [
    "Hello, echo kernel."
   ]
  },
  {
   "cell_type": "code",
   "execution_count": null,
   "id": "3b363b1a-088d-4bf2-938f-33dd2901b45a",
   "metadata": {},
   "outputs": [],
   "source": []
  }
 ],
 "metadata": {
  "kernelspec": {
   "display_name": "Echo",
   "language": "",
   "name": "echokernel"
  },
  "language_info": {
   "file_extension": ".txt",
   "mimetype": "text/plain",
   "name": "Any text"
  }
 },
 "nbformat": 4,
 "nbformat_minor": 5
}
